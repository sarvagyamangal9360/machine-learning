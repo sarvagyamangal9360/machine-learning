{
 "cells": [
  {
   "cell_type": "code",
   "execution_count": 13,
   "metadata": {},
   "outputs": [],
   "source": [
    "import tensorflow as tf"
   ]
  },
  {
   "cell_type": "code",
   "execution_count": null,
   "metadata": {},
   "outputs": [],
   "source": [
    "#and gate"
   ]
  },
  {
   "cell_type": "code",
   "execution_count": 14,
   "metadata": {},
   "outputs": [],
   "source": [
    "t,f=1.,-1.\n",
    "bias=1.\n",
    "train_in=[[t,t,bias],[t,f,bias],[f,t,bias],[f,f,bias]]\n",
    "train_out=[[t],[f],[f],[f]]"
   ]
  },
  {
   "cell_type": "code",
   "execution_count": 15,
   "metadata": {},
   "outputs": [],
   "source": [
    "w=tf.Variable(tf.random_normal([3,1]))"
   ]
  },
  {
   "cell_type": "code",
   "execution_count": 16,
   "metadata": {},
   "outputs": [],
   "source": [
    "def step(x):\n",
    "    is_greater=tf.greater(x,0)\n",
    "    as_float=tf.to_float(is_greater)\n",
    "    doubled=tf.multiply(as_float,2)\n",
    "    return tf.subtract(doubled,1)"
   ]
  },
  {
   "cell_type": "code",
   "execution_count": 17,
   "metadata": {},
   "outputs": [],
   "source": [
    "output=step(tf.matmul(train_in,w))\n",
    "error=tf.subtract(train_out,output)\n",
    "mse=tf.reduce_mean(tf.square(error))"
   ]
  },
  {
   "cell_type": "code",
   "execution_count": 18,
   "metadata": {},
   "outputs": [],
   "source": [
    "delta=tf.matmul(train_in,error,transpose_a=True)\n",
    "train=tf.assign(w,tf.add(w,delta))"
   ]
  },
  {
   "cell_type": "code",
   "execution_count": 19,
   "metadata": {},
   "outputs": [],
   "source": [
    "sess=tf.Session()\n",
    "sess.run(tf.global_variables_initializer())"
   ]
  },
  {
   "cell_type": "code",
   "execution_count": 20,
   "metadata": {},
   "outputs": [
    {
     "name": "stdout",
     "output_type": "stream",
     "text": [
      "[[1.0, 1.0, 1.0], [1.0, -1.0, 1.0], [-1.0, 1.0, 1.0], [-1.0, -1.0, 1.0]]\n"
     ]
    }
   ],
   "source": [
    "print(train_in)"
   ]
  },
  {
   "cell_type": "code",
   "execution_count": 21,
   "metadata": {},
   "outputs": [
    {
     "name": "stdout",
     "output_type": "stream",
     "text": [
      "Tensor(\"MatMul_5:0\", shape=(4, 1), dtype=float32)\n",
      "[[ 4.345291  ]\n",
      " [-0.40453815]\n",
      " [ 3.1685112 ]\n",
      " [-1.581318  ]]\n",
      "[[ True]\n",
      " [False]\n",
      " [ True]\n",
      " [False]]\n",
      "[[1.]\n",
      " [0.]\n",
      " [1.]\n",
      " [0.]]\n",
      "[[2.]\n",
      " [0.]\n",
      " [2.]\n",
      " [0.]]\n",
      "[[ 1.]\n",
      " [-1.]\n",
      " [ 1.]\n",
      " [-1.]]\n"
     ]
    }
   ],
   "source": [
    "x=tf.matmul(train_in,w)\n",
    "print(x)\n",
    "print(sess.run(x))\n",
    "print(sess.run(tf.greater(x,0)))\n",
    "is_great=tf.greater(x,0)\n",
    "print(sess.run(tf.to_float(is_great)))\n",
    "as_float=tf.to_float(is_great)\n",
    "doubled=tf.multiply(as_float,2)\n",
    "print(sess.run(doubled))\n",
    "print(sess.run(tf.subtract(doubled,1)))"
   ]
  },
  {
   "cell_type": "code",
   "execution_count": 22,
   "metadata": {},
   "outputs": [
    {
     "name": "stdout",
     "output_type": "stream",
     "text": [
      "epoch: 1\n",
      "mse: 1.0\n",
      "epoch: 2\n",
      "mse: 1.0\n",
      "epoch: 3\n",
      "mse: 0.0\n"
     ]
    }
   ],
   "source": [
    "err,target=1,0\n",
    "epoch,max_epochs=0,10\n",
    "while err>target and epoch<(max_epochs):\n",
    "    epoch+=1\n",
    "    err,_=sess.run([mse,train])\n",
    "    print('epoch:',epoch)\n",
    "    print('mse:',err)"
   ]
  },
  {
   "cell_type": "code",
   "execution_count": 23,
   "metadata": {},
   "outputs": [],
   "source": [
    "#xor gate"
   ]
  },
  {
   "cell_type": "code",
   "execution_count": 24,
   "metadata": {},
   "outputs": [],
   "source": [
    "t,f=1.,-1.\n",
    "train_in=[[t,t],[t,f],[f,t],[f,f]]\n",
    "train_out=[[t],[f],[f],[f]]"
   ]
  },
  {
   "cell_type": "code",
   "execution_count": 30,
   "metadata": {},
   "outputs": [],
   "source": [
    "w1=tf.Variable(tf.random_normal([2,2]))\n",
    "b1=tf.Variable(tf.zeros([2]))\n",
    "w2=tf.Variable(tf.random_normal([2,2]))\n",
    "b2=tf.Variable(tf.zeros([2]))\n",
    "out1=tf.tanh(tf.add(tf.matmul(train_in,w1),b1))\n",
    "out2=tf.tanh(tf.add(tf.matmul(out1,w2),b2))\n",
    "error=tf.subtract(train_out,out2)\n",
    "mse=tf.reduce_mean(tf.square(error))"
   ]
  },
  {
   "cell_type": "code",
   "execution_count": 36,
   "metadata": {},
   "outputs": [],
   "source": [
    "sess=tf.Session()\n",
    "sess.run(tf.initialize_all_variables())"
   ]
  },
  {
   "cell_type": "code",
   "execution_count": 38,
   "metadata": {},
   "outputs": [
    {
     "name": "stdout",
     "output_type": "stream",
     "text": [
      "epoch: 1 mse: 1.1665926\n",
      "epoch: 2 mse: 1.1665926\n",
      "epoch: 3 mse: 1.1665926\n",
      "epoch: 4 mse: 1.1665926\n",
      "epoch: 5 mse: 1.1665926\n",
      "epoch: 6 mse: 1.1665926\n",
      "epoch: 7 mse: 1.1665926\n",
      "epoch: 8 mse: 1.1665926\n",
      "epoch: 9 mse: 1.1665926\n",
      "epoch: 10 mse: 1.1665926\n"
     ]
    }
   ],
   "source": [
    "err,target=1,0.01\n",
    "epoch,max_epochs=0,10\n",
    "while err>target and epoch<(max_epochs):\n",
    "    epoch+=1\n",
    "    err,_=sess.run([mse,train])\n",
    "    print('epoch:',epoch,'mse:',err)"
   ]
  },
  {
   "cell_type": "code",
   "execution_count": null,
   "metadata": {},
   "outputs": [],
   "source": []
  }
 ],
 "metadata": {
  "kernelspec": {
   "display_name": "Python 3",
   "language": "python",
   "name": "python3"
  },
  "language_info": {
   "codemirror_mode": {
    "name": "ipython",
    "version": 3
   },
   "file_extension": ".py",
   "mimetype": "text/x-python",
   "name": "python",
   "nbconvert_exporter": "python",
   "pygments_lexer": "ipython3",
   "version": "3.7.3"
  }
 },
 "nbformat": 4,
 "nbformat_minor": 2
}
